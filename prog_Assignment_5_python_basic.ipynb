{
 "cells": [
  {
   "cell_type": "markdown",
   "id": "bbb3b304",
   "metadata": {},
   "source": [
    "#### 1. Write a Python Program to Find LCM?"
   ]
  },
  {
   "cell_type": "code",
   "execution_count": 89,
   "id": "6e3a5b32",
   "metadata": {},
   "outputs": [],
   "source": [
    "def lcm(n1,n2):\n",
    "    \"\"\"returns lcm of 2 numbers\"\"\"\n",
    "    if n1>n2:\n",
    "        greator=n1\n",
    "    else:\n",
    "        greator=n2\n",
    "    while True:\n",
    "        try:\n",
    "            if greator % n1==0 and greator % n2==0:\n",
    "                lcm=greator\n",
    "                return lcm\n",
    "                break\n",
    "            else:\n",
    "                greator +=1\n",
    "        except ZeroDivisionError as e:\n",
    "            print(e)\n",
    "            break\n",
    "            \n",
    "            "
   ]
  },
  {
   "cell_type": "code",
   "execution_count": 90,
   "id": "13058839",
   "metadata": {},
   "outputs": [
    {
     "name": "stdout",
     "output_type": "stream",
     "text": [
      "enter the 1st number54\n",
      "enter the 1st number24\n",
      "216\n"
     ]
    }
   ],
   "source": [
    "try:\n",
    "    n1=int(input(\"enter the 1st number\"))\n",
    "    n2=int(input(\"enter the 1st number\"))\n",
    "except exception as e:\n",
    "    print(e)\n",
    "else:\n",
    "    print(lcm(n1,n2))"
   ]
  },
  {
   "cell_type": "markdown",
   "id": "be2705ad",
   "metadata": {},
   "source": [
    "#### 2. Write a Python Program to Find HCF?"
   ]
  },
  {
   "cell_type": "code",
   "execution_count": 87,
   "id": "ab4c502c",
   "metadata": {},
   "outputs": [],
   "source": [
    "def hcf(n1,n2):\n",
    "    \"\"\"returns hcf of 2 numbers\"\"\"\n",
    "    if n1<n2:\n",
    "        smaller=n1\n",
    "    else:\n",
    "        smaller=n2\n",
    "    hcf=0\n",
    "    i=2\n",
    "    while i<=smaller:\n",
    "       \n",
    "        if (n1 % i==0) and (n2 % i==0):\n",
    "            hcf=i\n",
    "        i+=1\n",
    "    return hcf\n",
    "    "
   ]
  },
  {
   "cell_type": "code",
   "execution_count": 88,
   "id": "560234c4",
   "metadata": {},
   "outputs": [
    {
     "name": "stdout",
     "output_type": "stream",
     "text": [
      "enter the 1st number54\n",
      "enter the 1st number24\n",
      "6\n"
     ]
    }
   ],
   "source": [
    "try:\n",
    "    n1=int(input(\"enter the 1st number\"))\n",
    "    n2=int(input(\"enter the 1st number\"))\n",
    "except execption as e:\n",
    "    print(e)\n",
    "else:\n",
    "    print(hcf(n1,n2))"
   ]
  },
  {
   "cell_type": "markdown",
   "id": "c4d50f67",
   "metadata": {},
   "source": [
    "#### 3. Write a Python Program to Convert Decimal to Binary, Octal and Hexadecimal?"
   ]
  },
  {
   "cell_type": "code",
   "execution_count": 46,
   "id": "aa4a29c1",
   "metadata": {},
   "outputs": [],
   "source": [
    "class convert:\n",
    "    def __init__(self,decimal):\n",
    "        self.decimal=decimal\n",
    "    def decimal_to_binary(self):\n",
    "        \"\"\"returns binary representation of a given decimal\"\"\"\n",
    "        if self.check():\n",
    "            return bin(self.decimal)\n",
    "    def decimal_to_octal(self):\n",
    "        \"\"\"returns octal representation of a given decimal\"\"\"\n",
    "        if self.check():\n",
    "            return oct(self.decimal)\n",
    "    \n",
    "    def decimal_to_hexadecimal(self):\n",
    "        \"\"\"returns hexadecimal representation of a given decimal\"\"\"\n",
    "        if self.check():\n",
    "            return hex(self.decimal)\n",
    "        \n",
    "    def check(self):\n",
    "        \"\"\"checks wheter the given number is decimal or not\"\"\"\n",
    "        if isinstance(self.decimal,int):\n",
    "            return True\n",
    "        else:\n",
    "            print(\"please enter integer value\")"
   ]
  },
  {
   "cell_type": "code",
   "execution_count": 47,
   "id": "f9b2db80",
   "metadata": {},
   "outputs": [],
   "source": [
    "x=convert(344)"
   ]
  },
  {
   "cell_type": "code",
   "execution_count": 48,
   "id": "ceaecfd8",
   "metadata": {},
   "outputs": [
    {
     "data": {
      "text/plain": [
       "'0b101011000'"
      ]
     },
     "execution_count": 48,
     "metadata": {},
     "output_type": "execute_result"
    }
   ],
   "source": [
    "x.decimal_to_binary()"
   ]
  },
  {
   "cell_type": "code",
   "execution_count": 49,
   "id": "758df6e2",
   "metadata": {},
   "outputs": [
    {
     "data": {
      "text/plain": [
       "'0x158'"
      ]
     },
     "execution_count": 49,
     "metadata": {},
     "output_type": "execute_result"
    }
   ],
   "source": [
    "x.decimal_to_hexadecimal()"
   ]
  },
  {
   "cell_type": "code",
   "execution_count": 50,
   "id": "71219427",
   "metadata": {},
   "outputs": [
    {
     "data": {
      "text/plain": [
       "'0o530'"
      ]
     },
     "execution_count": 50,
     "metadata": {},
     "output_type": "execute_result"
    }
   ],
   "source": [
    "x.decimal_to_octal()"
   ]
  },
  {
   "cell_type": "code",
   "execution_count": 57,
   "id": "934bc62b",
   "metadata": {},
   "outputs": [],
   "source": [
    "y=convert(36.0)"
   ]
  },
  {
   "cell_type": "code",
   "execution_count": 58,
   "id": "3439b556",
   "metadata": {},
   "outputs": [
    {
     "name": "stdout",
     "output_type": "stream",
     "text": [
      "please enter integer value\n"
     ]
    }
   ],
   "source": [
    "y.decimal_to_binary()"
   ]
  },
  {
   "cell_type": "code",
   "execution_count": 59,
   "id": "15f7deff",
   "metadata": {},
   "outputs": [
    {
     "name": "stdout",
     "output_type": "stream",
     "text": [
      "please enter integer value\n"
     ]
    }
   ],
   "source": [
    "y.decimal_to_hexadecimal()"
   ]
  },
  {
   "cell_type": "code",
   "execution_count": 60,
   "id": "c2899178",
   "metadata": {},
   "outputs": [
    {
     "name": "stdout",
     "output_type": "stream",
     "text": [
      "please enter integer value\n"
     ]
    }
   ],
   "source": [
    "y.decimal_to_octal()"
   ]
  },
  {
   "cell_type": "markdown",
   "id": "696fa4e9",
   "metadata": {},
   "source": [
    "#### 4. Write a Python Program To Find ASCII value of a character?"
   ]
  },
  {
   "cell_type": "code",
   "execution_count": 91,
   "id": "d87d67fc",
   "metadata": {},
   "outputs": [],
   "source": [
    "def find_ascii_value(char):\n",
    "    \"\"\" Returns ASCII value for a char\"\"\"\n",
    "    if isinstance(char,str):\n",
    "        return ord(char)\n",
    "    else:\n",
    "        return \"please enter the valid input\""
   ]
  },
  {
   "cell_type": "code",
   "execution_count": 92,
   "id": "d82ef518",
   "metadata": {},
   "outputs": [
    {
     "data": {
      "text/plain": [
       "65"
      ]
     },
     "execution_count": 92,
     "metadata": {},
     "output_type": "execute_result"
    }
   ],
   "source": [
    "find_ascii_value(\"A\")"
   ]
  },
  {
   "cell_type": "code",
   "execution_count": 94,
   "id": "e7fed160",
   "metadata": {},
   "outputs": [
    {
     "data": {
      "text/plain": [
       "'please enter the valid input'"
      ]
     },
     "execution_count": 94,
     "metadata": {},
     "output_type": "execute_result"
    }
   ],
   "source": [
    "find_ascii_value(2)"
   ]
  },
  {
   "cell_type": "markdown",
   "id": "7e14c57f",
   "metadata": {},
   "source": [
    "#### 5. Write a Python Program to Make a Simple Calculator with 4 basic mathematical operations?"
   ]
  },
  {
   "cell_type": "code",
   "execution_count": 106,
   "id": "87cf81fd",
   "metadata": {},
   "outputs": [],
   "source": [
    "class maths:\n",
    "    def __init__(self,n1,n2):\n",
    "        self.n1=n1\n",
    "        self.n2=n2\n",
    "    \n",
    "    def addition(self):\n",
    "        \"\"\"returns addition of 2 numbers\"\"\"\n",
    "        if self.check():\n",
    "            return self.n1+self.n2\n",
    "    \n",
    "    def substraction(self):\n",
    "        \"\"\"returns substraction of 2 numbers\"\"\"\n",
    "        if self.check():\n",
    "            if self.n1<self.n2:\n",
    "                self.n1,self.n2=self.n2,self.n1\n",
    "            return self.n1-self.n2\n",
    "    \n",
    "    def multiplication(self):\n",
    "        \"\"\"returns multiplication of 2 numbers\"\"\"\n",
    "        if self.check():\n",
    "            return self.n1*self.n2\n",
    "        \n",
    "    def division(self):\n",
    "        \"\"\"returns division of 2 numbers\"\"\"\n",
    "        if self.check():\n",
    "            return self.n1/self.n2\n",
    "    \n",
    "    def check(self):\n",
    "        if isinstance(self.n1,(int,float)) and isinstance(self.n2,(int,float)) :\n",
    "            return True\n",
    "        else:\n",
    "            print(\"please enter values in integer or float \")"
   ]
  },
  {
   "cell_type": "code",
   "execution_count": 107,
   "id": "15da5b47",
   "metadata": {},
   "outputs": [],
   "source": [
    "x=maths(2,4)"
   ]
  },
  {
   "cell_type": "code",
   "execution_count": 108,
   "id": "1d049667",
   "metadata": {},
   "outputs": [
    {
     "data": {
      "text/plain": [
       "6"
      ]
     },
     "execution_count": 108,
     "metadata": {},
     "output_type": "execute_result"
    }
   ],
   "source": [
    "x.addition()"
   ]
  },
  {
   "cell_type": "code",
   "execution_count": 109,
   "id": "60e9755a",
   "metadata": {},
   "outputs": [
    {
     "data": {
      "text/plain": [
       "0.5"
      ]
     },
     "execution_count": 109,
     "metadata": {},
     "output_type": "execute_result"
    }
   ],
   "source": [
    "x.division()"
   ]
  },
  {
   "cell_type": "code",
   "execution_count": 110,
   "id": "70146ceb",
   "metadata": {},
   "outputs": [
    {
     "data": {
      "text/plain": [
       "8"
      ]
     },
     "execution_count": 110,
     "metadata": {},
     "output_type": "execute_result"
    }
   ],
   "source": [
    "x.multiplication()"
   ]
  },
  {
   "cell_type": "code",
   "execution_count": 111,
   "id": "cb433f23",
   "metadata": {},
   "outputs": [
    {
     "data": {
      "text/plain": [
       "2"
      ]
     },
     "execution_count": 111,
     "metadata": {},
     "output_type": "execute_result"
    }
   ],
   "source": [
    "x.substraction()"
   ]
  },
  {
   "cell_type": "code",
   "execution_count": 112,
   "id": "89996633",
   "metadata": {},
   "outputs": [],
   "source": [
    "y=maths('2',3)"
   ]
  },
  {
   "cell_type": "code",
   "execution_count": 113,
   "id": "8b1d5c52",
   "metadata": {},
   "outputs": [
    {
     "name": "stdout",
     "output_type": "stream",
     "text": [
      "please enter values in integer or float \n"
     ]
    }
   ],
   "source": [
    "y.addition()"
   ]
  },
  {
   "cell_type": "code",
   "execution_count": 114,
   "id": "21d0a167",
   "metadata": {},
   "outputs": [
    {
     "name": "stdout",
     "output_type": "stream",
     "text": [
      "please enter values in integer or float \n"
     ]
    }
   ],
   "source": [
    "y.division()"
   ]
  },
  {
   "cell_type": "code",
   "execution_count": 115,
   "id": "a06826cd",
   "metadata": {},
   "outputs": [
    {
     "name": "stdout",
     "output_type": "stream",
     "text": [
      "please enter values in integer or float \n"
     ]
    }
   ],
   "source": [
    "y.multiplication()"
   ]
  },
  {
   "cell_type": "code",
   "execution_count": 116,
   "id": "ef2c6e47",
   "metadata": {},
   "outputs": [
    {
     "name": "stdout",
     "output_type": "stream",
     "text": [
      "please enter values in integer or float \n"
     ]
    }
   ],
   "source": [
    "y.substraction()"
   ]
  },
  {
   "cell_type": "code",
   "execution_count": null,
   "id": "2929c956",
   "metadata": {},
   "outputs": [],
   "source": []
  }
 ],
 "metadata": {
  "kernelspec": {
   "display_name": "Python 3",
   "language": "python",
   "name": "python3"
  },
  "language_info": {
   "codemirror_mode": {
    "name": "ipython",
    "version": 3
   },
   "file_extension": ".py",
   "mimetype": "text/x-python",
   "name": "python",
   "nbconvert_exporter": "python",
   "pygments_lexer": "ipython3",
   "version": "3.8.8"
  }
 },
 "nbformat": 4,
 "nbformat_minor": 5
}
