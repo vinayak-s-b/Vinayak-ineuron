{
 "cells": [
  {
   "cell_type": "markdown",
   "id": "fdb30369",
   "metadata": {},
   "source": [
    "#### Q1. What is the purpose of Python&#39;s OOP?"
   ]
  },
  {
   "cell_type": "markdown",
   "id": "bd0e20cb",
   "metadata": {},
   "source": [
    "Purpose of python's opps is to solve real world problems much easy and in structured format,It looks every real world thing as object for example:car,bike,mobile.Everything is based on classes and objects, It has a concepts like encapsulation,Inheritance,polymorphism.\n",
    "\n",
    "The main concept of OOPs is to bind the data and the functions that work on that together as a single unit so that no other part of the code can access this data"
   ]
  },
  {
   "cell_type": "markdown",
   "id": "59fedf7e",
   "metadata": {},
   "source": [
    "#### Q2. Where does an inheritance search look for an attribute?"
   ]
  },
  {
   "cell_type": "markdown",
   "id": "6ab5ec6a",
   "metadata": {},
   "source": [
    "inheritance first looks in the instances for attribute and then in class from which the instances was created and then in the superclass,it stops at the first place the attribute was found"
   ]
  },
  {
   "cell_type": "markdown",
   "id": "55c0bebb",
   "metadata": {},
   "source": [
    "#### Q3. How do you distinguish between a class object and an instance object?"
   ]
  },
  {
   "cell_type": "markdown",
   "id": "6f89c5a9",
   "metadata": {},
   "source": [
    "A class is a template for creating objects in a program, whereas the object is an instance of a class.\n",
    "\n",
    "A class is a logical entity, while an object is a physical entity. \n",
    "\n",
    "A class does not allocate memory space on the other hand, an object allocates memory space.\n"
   ]
  },
  {
   "cell_type": "markdown",
   "id": "18517334",
   "metadata": {},
   "source": [
    "#### Q4. What makes the first argument in a class’s method function special?"
   ]
  },
  {
   "cell_type": "markdown",
   "id": "73c3cca9",
   "metadata": {},
   "source": [
    "the first argument alwayas acts as a pointer to the class object that's what makes it special"
   ]
  },
  {
   "cell_type": "markdown",
   "id": "7bb0990e",
   "metadata": {},
   "source": [
    "#### Q5. What is the purpose of the __init__ method?"
   ]
  },
  {
   "cell_type": "markdown",
   "id": "2362bfcc",
   "metadata": {},
   "source": [
    "__init__ method is also called as constructor, It is used to initialize the attributes of the class."
   ]
  },
  {
   "cell_type": "markdown",
   "id": "143f718b",
   "metadata": {},
   "source": [
    "#### Q6. What is the process for creating a class instance?"
   ]
  },
  {
   "cell_type": "markdown",
   "id": "efe9ce55",
   "metadata": {},
   "source": [
    "To create instances of a class, you call the class using class name and pass in whatever arguments its __init__ method accepts."
   ]
  },
  {
   "cell_type": "markdown",
   "id": "30d55af3",
   "metadata": {},
   "source": [
    "#### Q7. What is the process for creating a class?"
   ]
  },
  {
   "cell_type": "markdown",
   "id": "cda65ae0",
   "metadata": {},
   "source": [
    "class keyword is used to create a class syntax : class class_name (parent_class if any):"
   ]
  },
  {
   "cell_type": "markdown",
   "id": "06dab741",
   "metadata": {},
   "source": [
    "#### Q8. How would you define the superclasses of a class?"
   ]
  },
  {
   "cell_type": "markdown",
   "id": "ddd46180",
   "metadata": {},
   "source": [
    "A superclass is the class from which many subclasses can be created.\n",
    "The subclasses inherit the characteristics of a superclass.\n",
    "The superclass is also known as the parent class or base class. \n"
   ]
  },
  {
   "cell_type": "code",
   "execution_count": null,
   "id": "247fdca6",
   "metadata": {},
   "outputs": [],
   "source": []
  }
 ],
 "metadata": {
  "kernelspec": {
   "display_name": "Python 3",
   "language": "python",
   "name": "python3"
  },
  "language_info": {
   "codemirror_mode": {
    "name": "ipython",
    "version": 3
   },
   "file_extension": ".py",
   "mimetype": "text/x-python",
   "name": "python",
   "nbconvert_exporter": "python",
   "pygments_lexer": "ipython3",
   "version": "3.8.8"
  }
 },
 "nbformat": 4,
 "nbformat_minor": 5
}
