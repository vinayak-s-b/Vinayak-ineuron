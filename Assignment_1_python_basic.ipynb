{
 "cells": [
  {
   "cell_type": "markdown",
   "id": "124d2a09",
   "metadata": {},
   "source": [
    "1. In the below elements which of them are values or an expression? eg:- values can be integer or string and expressions will be mathematical operators.\n",
    "\n",
    "(*): Multiplication Operator, \n",
    "\n",
    "'hello' : String Value, \n",
    "\n",
    "-87.8 : float value, \n",
    "\n",
    "(-) : substration operator, \n",
    "\n",
    "/ : Division operator which returns float value, \n",
    "\n",
    "(+) : Addition operator,  \n",
    "\n",
    "6 : integer value, "
   ]
  },
  {
   "cell_type": "markdown",
   "id": "a1b6b031",
   "metadata": {},
   "source": [
    "2. What is the difference between string and variable?\n",
    "\n",
    "    The string is a value for example: \"Hello\",\"World!\",etc\n",
    "    where as the variable is like a box to store the values whether it may be a String value,float value or Integer value."
   ]
  },
  {
   "cell_type": "markdown",
   "id": "66eb4fb5",
   "metadata": {},
   "source": [
    "3. Describe three different data types.\n",
    "\n",
    "    1.Integer ex: 2,3,4..\n",
    "    \n",
    "    2.float ex: 1.2,3.4,..\n",
    "    \n",
    "    3.String ex: \"Hello\",\"HI2\".."
   ]
  },
  {
   "cell_type": "markdown",
   "id": "0d2c9384",
   "metadata": {},
   "source": [
    "4. What is an expression made up of? What do all expressions do?\n",
    "\n",
    "    The expressions are made up of an operators and operands for example: 2+3,4*5,..\n",
    "    \n",
    "    An expressions when evaluated results in values that can be stored in variables.\n",
    "    \n",
    "    for ex: if a=2,b=4 and c=a+b then c is a variable which stores the value of expression a+b."
   ]
  },
  {
   "cell_type": "markdown",
   "id": "4417ce1c",
   "metadata": {},
   "source": [
    "5. This assignment statements, like spam = 10. What is the difference between an expression and a statement?\n",
    "\n",
    "    The expression always returns the value where as the statement won't return any values.\n",
    "    \n",
    "    the expression can be reduced to single value after evaluation but statement can't be reduced.\n",
    "    \n",
    "    Ex for expression: 2+3,5+6-4.etc\n",
    "    \n",
    "    Ex for statement: \"2+4\",x=\"Hello\""
   ]
  },
  {
   "cell_type": "markdown",
   "id": "ae01bf8e",
   "metadata": {},
   "source": [
    "6. After running the following code, what does the variable bacon contain?\n",
    "\n",
    "    bacon = 22\n",
    "\n",
    "    bacon + 1\n",
    "\n",
    "    The varible bacon contain the original value i.e 22 because after adding 1 to bacon the value is not assigned back to the  variable."
   ]
  },
  {
   "cell_type": "markdown",
   "id": "faddd8e2",
   "metadata": {},
   "source": [
    "7. What should the values of the following two terms be?\n",
    "    \n",
    "    'spam'+'spamspam'\n",
    "    \n",
    "    'spam'*3\n",
    "\n",
    "    both expression returns the same value i.e.'spamspamspam'"
   ]
  },
  {
   "cell_type": "markdown",
   "id": "dd910429",
   "metadata": {},
   "source": [
    "8. Why is eggs a valid variable name while 100 is invalid?\n",
    "\n",
    "    The varible name can start with the char or \"_\" and can be continued with numbers, char or by \"_\",but it cannot start with numbers ,Hence eggs is a valid varible a while 100 is invalid."
   ]
  },
  {
   "cell_type": "markdown",
   "id": "9d13818c",
   "metadata": {},
   "source": [
    "9. What three functions can be used to get the integer, floating-point number, or string version of a value?\n",
    "\n",
    "    int(): gives the integer value\n",
    "    \n",
    "    float() : gives the float value\n",
    "    \n",
    "    str() : gives the string value\n",
    "    "
   ]
  },
  {
   "cell_type": "markdown",
   "id": "530640e4",
   "metadata": {},
   "source": [
    "10. Why does this expression cause an error? How can you fix it?'I have eaten'+99+'burritos.'                                    \n",
    "\n",
    "     Here we are trying to concatinate the interger value with the string so it will cause an error.\n",
    " \n",
    "     we can fix it by using a string function str() to resolve.\n",
    " \n",
    "     solution: 'I have eaten'+str(99)+'burritos.'"
   ]
  }
 ],
 "metadata": {
  "kernelspec": {
   "display_name": "Python 3",
   "language": "python",
   "name": "python3"
  },
  "language_info": {
   "codemirror_mode": {
    "name": "ipython",
    "version": 3
   },
   "file_extension": ".py",
   "mimetype": "text/x-python",
   "name": "python",
   "nbconvert_exporter": "python",
   "pygments_lexer": "ipython3",
   "version": "3.8.8"
  }
 },
 "nbformat": 4,
 "nbformat_minor": 5
}
