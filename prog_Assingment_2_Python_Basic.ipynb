{
 "cells": [
  {
   "cell_type": "code",
   "execution_count": 17,
   "id": "6ccb8fdb",
   "metadata": {},
   "outputs": [],
   "source": [
    "#1. Write a Python program to convert kilometers to miles?\n",
    "\n",
    "#We know that 1Km = 0.62137miles\n",
    "\n",
    "def KmtoMiles(km):\n",
    "    value=0.62137\n",
    "    miles=km*value\n",
    "    return miles"
   ]
  },
  {
   "cell_type": "code",
   "execution_count": 19,
   "id": "996fcb51",
   "metadata": {},
   "outputs": [
    {
     "name": "stdout",
     "output_type": "stream",
     "text": [
      "Enter kilometer 16\n",
      "16.0 km is equal to 9.94192 miles\n"
     ]
    }
   ],
   "source": [
    "km=float(input(\"Enter kilometer \"))\n",
    "print(\"{} km is equal to {} miles\".format(str(km),str(KmtoMiles(km))))"
   ]
  },
  {
   "cell_type": "code",
   "execution_count": 9,
   "id": "130e0e2d",
   "metadata": {},
   "outputs": [],
   "source": [
    "#2. Write a Python program to convert Celsius to Fahrenheit?\n",
    "# formula for celsius to fahrenheit is fahrenheit=(celsius-32)/1.8\n",
    "\n",
    "def celtofah(cel):\n",
    "    fahrenheit=(cel*1.8)+32\n",
    "    return fahrenheit"
   ]
  },
  {
   "cell_type": "code",
   "execution_count": 15,
   "id": "4908b374",
   "metadata": {},
   "outputs": [
    {
     "name": "stdout",
     "output_type": "stream",
     "text": [
      "enter the value of celsius 54\n",
      "54.0 degree celsius is equal to 129.2 fahrenheit\n"
     ]
    }
   ],
   "source": [
    "cel=float(input(\"enter the value of celsius \"))\n",
    "print(\"{} degree celsius is equal to {} fahrenheit\".format(str(cel),str(celtofah(cel))))"
   ]
  },
  {
   "cell_type": "code",
   "execution_count": 26,
   "id": "08dd6fa7",
   "metadata": {},
   "outputs": [
    {
     "name": "stdout",
     "output_type": "stream",
     "text": [
      "Enter year2022\n",
      "Enter month11\n",
      "   November 2022\n",
      "Mo Tu We Th Fr Sa Su\n",
      "    1  2  3  4  5  6\n",
      " 7  8  9 10 11 12 13\n",
      "14 15 16 17 18 19 20\n",
      "21 22 23 24 25 26 27\n",
      "28 29 30\n",
      "\n"
     ]
    }
   ],
   "source": [
    "#3. Write a Python program to display calendar?\n",
    "\n",
    "import calendar\n",
    "year=int(input(\"Enter year\"))\n",
    "month=int(input(\"Enter month\"))\n",
    "\n",
    "print(calendar.month(year,month))"
   ]
  },
  {
   "cell_type": "code",
   "execution_count": 28,
   "id": "d7a424b6",
   "metadata": {},
   "outputs": [
    {
     "name": "stdout",
     "output_type": "stream",
     "text": [
      "The roots are (-3.414213562373095+0j) (-0.5857864376269049+0j)\n"
     ]
    }
   ],
   "source": [
    "#4. Write a Python program to solve quadratic equation?\n",
    "\n",
    "import cmath\n",
    "  \n",
    "a = 1\n",
    "b = 4\n",
    "c = 2\n",
    "  \n",
    "dis = (b**2) - (4 * a*c) # calculating  the discriminant\n",
    "  \n",
    "\n",
    "root1 = (-b-cmath.sqrt(dis))/(2 * a)\n",
    "root2 = (-b + cmath.sqrt(dis))/(2 * a)\n",
    "print('The roots are',root1,root2)\n"
   ]
  },
  {
   "cell_type": "code",
   "execution_count": 40,
   "id": "8200f443",
   "metadata": {},
   "outputs": [],
   "source": [
    "#5. Write a Python program to swap two variables without temp variable?\n",
    "# lets 2 variable be a and b\n",
    "\n",
    "def swap(a,b):\n",
    "    print(\"the value a = {} and the value of b = {}\".format(a,b))\n",
    "    a,b=b,a\n",
    "    print(\"After swaping the value of a = {} and the value of b = {}\".format(a,b))"
   ]
  },
  {
   "cell_type": "code",
   "execution_count": 41,
   "id": "1018a1ce",
   "metadata": {},
   "outputs": [
    {
     "name": "stdout",
     "output_type": "stream",
     "text": [
      "the value a = 2 and the value of b = 3\n",
      "After swaping the value of a = 3 and the value of b = 2\n"
     ]
    }
   ],
   "source": [
    "a,b=2,3\n",
    "swap(a,b)"
   ]
  },
  {
   "cell_type": "code",
   "execution_count": null,
   "id": "2e5c806a",
   "metadata": {},
   "outputs": [],
   "source": []
  }
 ],
 "metadata": {
  "kernelspec": {
   "display_name": "Python 3",
   "language": "python",
   "name": "python3"
  },
  "language_info": {
   "codemirror_mode": {
    "name": "ipython",
    "version": 3
   },
   "file_extension": ".py",
   "mimetype": "text/x-python",
   "name": "python",
   "nbconvert_exporter": "python",
   "pygments_lexer": "ipython3",
   "version": "3.8.8"
  }
 },
 "nbformat": 4,
 "nbformat_minor": 5
}
