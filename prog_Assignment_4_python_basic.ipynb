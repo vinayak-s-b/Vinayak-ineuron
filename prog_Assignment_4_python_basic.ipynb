{
 "cells": [
  {
   "cell_type": "code",
   "execution_count": 32,
   "id": "539bce59",
   "metadata": {},
   "outputs": [],
   "source": [
    "#1. Write a Python Program to Find the Factorial of a Number?\n",
    "\n",
    "def factorial(n):\n",
    "    if n==0 or n==1:\n",
    "        return 1\n",
    "    else:\n",
    "        return n*factorial(n-1)"
   ]
  },
  {
   "cell_type": "code",
   "execution_count": 166,
   "id": "9283f028",
   "metadata": {},
   "outputs": [
    {
     "name": "stdout",
     "output_type": "stream",
     "text": [
      "10\n",
      "3628800\n"
     ]
    }
   ],
   "source": [
    "try:\n",
    "    n=int(input())\n",
    "    if n>=0:\n",
    "        print(factorial(n))\n",
    "    else:\n",
    "        print(\"enter a positive number\")\n",
    "except Exception as e:\n",
    "    print(e)"
   ]
  },
  {
   "cell_type": "code",
   "execution_count": 167,
   "id": "71ec6d3b",
   "metadata": {},
   "outputs": [],
   "source": [
    "#2. Write a Python Program to Display the multiplication Table?\n",
    "def mul(num):\n",
    "    for i in range(1,11):\n",
    "        yield num*i"
   ]
  },
  {
   "cell_type": "code",
   "execution_count": 169,
   "id": "b4cb058e",
   "metadata": {},
   "outputs": [
    {
     "name": "stdout",
     "output_type": "stream",
     "text": [
      "9\n",
      "9*1=9\n",
      "9*2=18\n",
      "9*3=27\n",
      "9*4=36\n",
      "9*5=45\n",
      "9*6=54\n",
      "9*7=63\n",
      "9*8=72\n",
      "9*9=81\n",
      "9*10=90\n"
     ]
    }
   ],
   "source": [
    "try:\n",
    "    num=int(input())\n",
    "    if num>=0:\n",
    "        count=1\n",
    "        for i in (mul(num)):\n",
    "            print(\"{}*{}={}\".format(num,count,i))\n",
    "            count+=1\n",
    "    else:\n",
    "        print(\"enter a positive number\")\n",
    "except Exception as e:\n",
    "    print(e)"
   ]
  },
  {
   "cell_type": "code",
   "execution_count": 46,
   "id": "1ede980a",
   "metadata": {},
   "outputs": [],
   "source": [
    "#3. Write a Python Program to Print the Fibonacci sequence?\n",
    "def fib(nub):\n",
    "    \n",
    "    if nub==0 or nub==1:\n",
    "        return n\n",
    "    else:\n",
    "        n1=0\n",
    "        n2=1\n",
    "        for i in range(nub):\n",
    "            yield n1\n",
    "            n1,n2=n2,n1+n2\n",
    "    "
   ]
  },
  {
   "cell_type": "code",
   "execution_count": 171,
   "id": "a9046704",
   "metadata": {},
   "outputs": [
    {
     "name": "stdout",
     "output_type": "stream",
     "text": [
      "5\n",
      "0\n",
      "1\n",
      "1\n",
      "2\n",
      "3\n"
     ]
    }
   ],
   "source": [
    "try:\n",
    "    nub=int(input())\n",
    "    if nub>=0:\n",
    "        \n",
    "        for i in fib(nub):\n",
    "            print(i)\n",
    "    else:\n",
    "        print(\"enter a positive number\")\n",
    "except Exception as e:\n",
    "    print(e)"
   ]
  },
  {
   "cell_type": "code",
   "execution_count": 162,
   "id": "e98a6dc5",
   "metadata": {},
   "outputs": [],
   "source": [
    "#4. Write a Python Program to Check Armstrong Number?\n",
    "def cube(l):\n",
    "    for i in l:\n",
    "        yield i**len(l) # returns cubes\n",
    "def armstrong(number,c):\n",
    "    s=0\n",
    "    for i in c:\n",
    "        s+=i\n",
    "    if number==s:\n",
    "        print(\"True\")\n",
    "    else:\n",
    "        print(\"False\")"
   ]
  },
  {
   "cell_type": "code",
   "execution_count": 164,
   "id": "243395b4",
   "metadata": {},
   "outputs": [
    {
     "name": "stdout",
     "output_type": "stream",
     "text": [
      "153\n",
      "True\n"
     ]
    }
   ],
   "source": [
    "try :\n",
    "    number=input()\n",
    "    l=[]\n",
    "    for i in number:\n",
    "        l.append(int(i))\n",
    "    c=cube(l)       # contains cube of numbers\n",
    "    armstrong(int(number),c)\n",
    "except Exception as e:\n",
    "    print(e)"
   ]
  },
  {
   "cell_type": "code",
   "execution_count": 155,
   "id": "a5524ca7",
   "metadata": {},
   "outputs": [],
   "source": [
    "#5. Write a Python Program to Find Armstrong Number in an Interval?\n",
    "def cube(l):\n",
    "    for i in l:\n",
    "        yield i**len(l) \n",
    "def arm_strong(number,c):\n",
    "    s=0\n",
    "    for i in c:\n",
    "        s+=i\n",
    "    if number==s:\n",
    "        print( number)"
   ]
  },
  {
   "cell_type": "code",
   "execution_count": 156,
   "id": "cc56bbfe",
   "metadata": {},
   "outputs": [
    {
     "name": "stdout",
     "output_type": "stream",
     "text": [
      "0\n",
      "9999\n",
      "0\n",
      "1\n",
      "2\n",
      "3\n",
      "4\n",
      "5\n",
      "6\n",
      "7\n",
      "8\n",
      "9\n",
      "153\n",
      "370\n",
      "371\n",
      "407\n",
      "1634\n",
      "8208\n",
      "9474\n"
     ]
    }
   ],
   "source": [
    "try :\n",
    "    number1=int(input())\n",
    "    number2=int(input())\n",
    "    if number1>=0 and number2>1:\n",
    "        for i in range(number1,number2+1,1):\n",
    "            l=[] #list containing the indivial elements of numb for ex=123=[1,2,3]\n",
    "            for j in str(i):\n",
    "                l.append(int(j))\n",
    "            c=cube(l)       # contains cube of numbers\n",
    "            arm_strong(i,c)\n",
    "            l.clear()\n",
    "except Exception as e:\n",
    "    print(e)"
   ]
  },
  {
   "cell_type": "code",
   "execution_count": 140,
   "id": "f658555e",
   "metadata": {},
   "outputs": [],
   "source": [
    "#6. Write a Python Program to Find the Sum of Natural Numbers?\n",
    "def find_sum(ran):\n",
    "    if ran>=0:\n",
    "        sum=0\n",
    "        for i in range(ran+1):\n",
    "            sum+=i\n",
    "        return sum\n",
    "    else:\n",
    "        return \"enter a positive number\"\n",
    "    "
   ]
  },
  {
   "cell_type": "code",
   "execution_count": 157,
   "id": "79d15efc",
   "metadata": {},
   "outputs": [
    {
     "name": "stdout",
     "output_type": "stream",
     "text": [
      "Enter the natural number upto which you want to know the sum16\n",
      "136\n"
     ]
    }
   ],
   "source": [
    "try:\n",
    "    ran=int(input(\"Enter the natural number upto which you want to know the sum\"))\n",
    "    print(find_sum(ran))\n",
    "except Exception as e:\n",
    "    print(e)"
   ]
  },
  {
   "cell_type": "code",
   "execution_count": null,
   "id": "8bf93049",
   "metadata": {},
   "outputs": [],
   "source": []
  }
 ],
 "metadata": {
  "kernelspec": {
   "display_name": "Python 3",
   "language": "python",
   "name": "python3"
  },
  "language_info": {
   "codemirror_mode": {
    "name": "ipython",
    "version": 3
   },
   "file_extension": ".py",
   "mimetype": "text/x-python",
   "name": "python",
   "nbconvert_exporter": "python",
   "pygments_lexer": "ipython3",
   "version": "3.8.8"
  }
 },
 "nbformat": 4,
 "nbformat_minor": 5
}
