{
 "cells": [
  {
   "cell_type": "markdown",
   "id": "4815e929",
   "metadata": {},
   "source": [
    "#1.What are the two values of the Boolean data type? How do you write them?\n",
    "\n",
    "The 2 values of boolean data type are True and False\n",
    "We should always write the 1st letter of each value in capital letter"
   ]
  },
  {
   "cell_type": "markdown",
   "id": "9f1a33c6",
   "metadata": {},
   "source": [
    "#2. What are the three different types of Boolean operators?\n",
    "\n",
    "Three different types of Boolean operators are and,or & not"
   ]
  },
  {
   "cell_type": "markdown",
   "id": "b4c49627",
   "metadata": {},
   "source": [
    "#3. Make a list of each Boolean operator's truth tables (i.e. every possible combination of Boolean values for the operator and what it evaluate).\n",
    "\n",
    "True and True = True.\n",
    "\n",
    "True and False = False.\n",
    "\n",
    "False and True =False.\n",
    "\n",
    "False and False = False.\n",
    "\n",
    "True or False = True.\n",
    "\n",
    "False or True = True.\n",
    "\n",
    "False or False = False.\n",
    "\n",
    "True or True = True\n",
    "\n",
    "not True = False.\n",
    "\n",
    "not False = True."
   ]
  },
  {
   "cell_type": "code",
   "execution_count": 3,
   "id": "edc96fdc",
   "metadata": {},
   "outputs": [
    {
     "name": "stdout",
     "output_type": "stream",
     "text": [
      "False\n",
      "False\n",
      "True\n",
      "False\n",
      "False\n",
      "True\n"
     ]
    }
   ],
   "source": [
    "#4. What are the values of the following expressions?\n",
    "\n",
    "print((5>4)and(3 == 5))\n",
    "print(not (5 > 4))\n",
    "print((5 > 4) or (3 == 5))\n",
    "print(not ((5 > 4) or (3 == 5)))\n",
    "print((True and True) and (True == False))\n",
    "print((not False) or (not True))"
   ]
  },
  {
   "cell_type": "markdown",
   "id": "dec056fe",
   "metadata": {},
   "source": [
    "#5. What are the six comparison operators?\n",
    "\n",
    "greater than : >\n",
    "\n",
    "less than : <\n",
    "\n",
    "less than or equal to : <=\n",
    "\n",
    "greater than or equal to : >=\n",
    "\n",
    "equal to : ==\n",
    "\n",
    "Not Equal to : !="
   ]
  },
  {
   "cell_type": "markdown",
   "id": "3cda5a3e",
   "metadata": {},
   "source": [
    "#6. How do you tell the difference between the equal to and assignment operators?Describe a condition and when you would use one.\n",
    "\n",
    "equal to operator in python : ==, which is basically used for comparision \n",
    "\n",
    "assignment operator in python : =, which is used to assign a value to the variable\n",
    "    "
   ]
  },
  {
   "cell_type": "code",
   "execution_count": 4,
   "id": "2484b080",
   "metadata": {},
   "outputs": [
    {
     "name": "stdout",
     "output_type": "stream",
     "text": [
      "No\n"
     ]
    }
   ],
   "source": [
    "# for example if we want to assign a value to a variable we use assignment operator\n",
    "\n",
    "a=2\n",
    "b=3\n",
    "\n",
    "# suppose if we want to compare these 2 varibles and check whether they are equal or not then we use comparision operator\n",
    "\n",
    "if a==b:\n",
    "    print(\"yes\")\n",
    "else:\n",
    "    print(\"No\")"
   ]
  },
  {
   "cell_type": "code",
   "execution_count": 8,
   "id": "3d104a06",
   "metadata": {},
   "outputs": [
    {
     "name": "stdout",
     "output_type": "stream",
     "text": [
      "ham\n",
      "spam\n",
      "spam\n"
     ]
    }
   ],
   "source": [
    "#7. Identify the three blocks in this code:\n",
    "spam = 0\n",
    "if spam == 10: # 1st block\n",
    "    print('eggs')\n",
    "if spam > 5: # 2nd block\n",
    "    print('bacon')\n",
    "else:        #3rd block\n",
    "    print('ham')\n",
    "    print('spam')\n",
    "    print('spam')"
   ]
  },
  {
   "cell_type": "code",
   "execution_count": 10,
   "id": "1cfd7275",
   "metadata": {},
   "outputs": [],
   "source": [
    "\"\"\"8. Write code that prints Hello if 1 is stored in spam, prints Howdy if 2 is stored in spam, and prints\n",
    "Greetings! if anything else is stored in spam.\"\"\"\n",
    "\n",
    "def check(spam):\n",
    "    if spam==1:\n",
    "        return \"Hello\"\n",
    "    elif spam==2:\n",
    "        return \"Howdy\"\n",
    "    else:\n",
    "        return \"Greetings!\""
   ]
  },
  {
   "cell_type": "code",
   "execution_count": 11,
   "id": "c4a03ddf",
   "metadata": {},
   "outputs": [
    {
     "name": "stdout",
     "output_type": "stream",
     "text": [
      "Hello\n",
      "Howdy\n",
      "Greetings!\n"
     ]
    }
   ],
   "source": [
    "print(check(1))\n",
    "print(check(2))\n",
    "print(check(3))"
   ]
  },
  {
   "cell_type": "markdown",
   "id": "a20dfb88",
   "metadata": {},
   "source": [
    "#9.If your programme is stuck in an endless loop, what keys you’ll press?\n",
    "\n",
    "PRESS ctrl+c"
   ]
  },
  {
   "cell_type": "markdown",
   "id": "722766a3",
   "metadata": {},
   "source": [
    "#10. How can you tell the difference between break and continue?\n",
    "\n",
    "break usally breaks/terminates the loop when executed where as\n",
    "\n",
    "continue will continue the execution from the beginning of loop when executed"
   ]
  },
  {
   "cell_type": "code",
   "execution_count": 13,
   "id": "ef697adb",
   "metadata": {},
   "outputs": [
    {
     "name": "stdout",
     "output_type": "stream",
     "text": [
      "0\n",
      "1\n",
      "2\n",
      "3\n",
      "4\n",
      "5\n",
      "6\n",
      "7\n",
      "8\n",
      "9\n"
     ]
    }
   ],
   "source": [
    "# 11. In a for loop, what is the difference between range(10), range(0, 10), and range(0, 10, 1)?\n",
    "\n",
    "#range(10) function will generate value from 0-10\n",
    "for i in range(10):\n",
    "    print(i)\n"
   ]
  },
  {
   "cell_type": "code",
   "execution_count": 14,
   "id": "cbfdb624",
   "metadata": {},
   "outputs": [
    {
     "name": "stdout",
     "output_type": "stream",
     "text": [
      "0\n",
      "1\n",
      "2\n",
      "3\n",
      "4\n",
      "5\n",
      "6\n",
      "7\n",
      "8\n",
      "9\n"
     ]
    }
   ],
   "source": [
    "#range(0,10) is same as range(10) because it will start from 0\n",
    "for i in range(0,10):\n",
    "    print(i)"
   ]
  },
  {
   "cell_type": "code",
   "execution_count": 15,
   "id": "0ed8b9e5",
   "metadata": {},
   "outputs": [
    {
     "name": "stdout",
     "output_type": "stream",
     "text": [
      "0\n",
      "1\n",
      "2\n",
      "3\n",
      "4\n",
      "5\n",
      "6\n",
      "7\n",
      "8\n",
      "9\n"
     ]
    }
   ],
   "source": [
    "\"\"\"range(0,10,1) Here we are mentioning 3 parameters that is start,end and jump \n",
    "but this will return same output as range(10)and range(0,10)\"\"\"\n",
    "\n",
    "for i in range(0,10,1):\n",
    "    print(i)"
   ]
  },
  {
   "cell_type": "code",
   "execution_count": 16,
   "id": "af790136",
   "metadata": {},
   "outputs": [
    {
     "name": "stdout",
     "output_type": "stream",
     "text": [
      "1\n",
      "2\n",
      "3\n",
      "4\n",
      "5\n",
      "6\n",
      "7\n",
      "8\n",
      "9\n",
      "10\n"
     ]
    }
   ],
   "source": [
    "\"\"\"12. Write a short program that prints the numbers 1 to 10 using a for loop. Then write an equivalent\n",
    "program that prints the numbers 1 to 10 using a while loop.\"\"\"\n",
    "\n",
    "for i in range(1,11):\n",
    "    print(i)\n"
   ]
  },
  {
   "cell_type": "code",
   "execution_count": 18,
   "id": "1f5a4713",
   "metadata": {},
   "outputs": [
    {
     "name": "stdout",
     "output_type": "stream",
     "text": [
      "1\n",
      "2\n",
      "3\n",
      "4\n",
      "5\n",
      "6\n",
      "7\n",
      "8\n",
      "9\n",
      "10\n"
     ]
    }
   ],
   "source": [
    "i=1\n",
    "while i<=10:\n",
    "    print(i)\n",
    "    i+=1"
   ]
  },
  {
   "cell_type": "markdown",
   "id": "56e3e5eb",
   "metadata": {},
   "source": [
    "#13. If you had a function named bacon() inside a module named spam, how would you call it after importing spam?\n",
    "\n",
    "spam.bacon()"
   ]
  },
  {
   "cell_type": "code",
   "execution_count": null,
   "id": "3e7d476d",
   "metadata": {},
   "outputs": [],
   "source": []
  }
 ],
 "metadata": {
  "kernelspec": {
   "display_name": "Python 3",
   "language": "python",
   "name": "python3"
  },
  "language_info": {
   "codemirror_mode": {
    "name": "ipython",
    "version": 3
   },
   "file_extension": ".py",
   "mimetype": "text/x-python",
   "name": "python",
   "nbconvert_exporter": "python",
   "pygments_lexer": "ipython3",
   "version": "3.8.8"
  }
 },
 "nbformat": 4,
 "nbformat_minor": 5
}
