{
 "cells": [
  {
   "cell_type": "code",
   "execution_count": 1,
   "id": "587b8167",
   "metadata": {},
   "outputs": [
    {
     "name": "stdout",
     "output_type": "stream",
     "text": [
      "Hello Python\n"
     ]
    }
   ],
   "source": [
    "#1. Write a Python program to print \"Hello Python\"?\n",
    "\n",
    "print(\"Hello Python\")"
   ]
  },
  {
   "cell_type": "code",
   "execution_count": 5,
   "id": "58c537b7",
   "metadata": {},
   "outputs": [
    {
     "name": "stdout",
     "output_type": "stream",
     "text": [
      "addition 5\n",
      "float value 0.6666666666666666\n",
      "integer value 0\n"
     ]
    }
   ],
   "source": [
    "#2. Write a Python program to do arithmetical operations addition and division.?\n",
    "a=2\n",
    "b=3\n",
    "print(\"addition\",a+b)\n",
    "print(\"float value\",a/b)\n",
    "print(\"integer value\",a//b)"
   ]
  },
  {
   "cell_type": "code",
   "execution_count": 19,
   "id": "9ede70b8",
   "metadata": {},
   "outputs": [
    {
     "name": "stdout",
     "output_type": "stream",
     "text": [
      "35.0\n"
     ]
    }
   ],
   "source": [
    "#3. Write a Python program to find the area of a triangle?\n",
    "#area of tringle 1/2*b*h i.e (b*h)/2\n",
    "base=10\n",
    "height=7\n",
    "area=(base*height)/2 # for integer value replace / opreator with //\n",
    "print(area)"
   ]
  },
  {
   "cell_type": "code",
   "execution_count": 20,
   "id": "c450a77a",
   "metadata": {},
   "outputs": [
    {
     "name": "stdout",
     "output_type": "stream",
     "text": [
      "original value a = hello\n",
      "original value b = World\n",
      "value after swaping a = World\n",
      "value after swaping b = hello\n"
     ]
    }
   ],
   "source": [
    "#4. Write a Python program to swap two variables?\n",
    "a=\"hello\"\n",
    "b=\"World\"\n",
    "print(\"original value a =\",a)\n",
    "print(\"original value b =\",b)\n",
    "a,b=b,a\n",
    "print(\"value after swaping a =\",a)\n",
    "print(\"value after swaping b =\",b)"
   ]
  },
  {
   "cell_type": "code",
   "execution_count": 22,
   "id": "dd222aae",
   "metadata": {},
   "outputs": [
    {
     "name": "stdout",
     "output_type": "stream",
     "text": [
      "10\n"
     ]
    }
   ],
   "source": [
    "#5. Write a Python program to generate a random number?\n",
    "import random \n",
    "\n",
    "print(random.randint(0,10))"
   ]
  },
  {
   "cell_type": "code",
   "execution_count": null,
   "id": "5ccee3c5",
   "metadata": {},
   "outputs": [],
   "source": []
  }
 ],
 "metadata": {
  "kernelspec": {
   "display_name": "Python 3",
   "language": "python",
   "name": "python3"
  },
  "language_info": {
   "codemirror_mode": {
    "name": "ipython",
    "version": 3
   },
   "file_extension": ".py",
   "mimetype": "text/x-python",
   "name": "python",
   "nbconvert_exporter": "python",
   "pygments_lexer": "ipython3",
   "version": "3.8.8"
  }
 },
 "nbformat": 4,
 "nbformat_minor": 5
}
